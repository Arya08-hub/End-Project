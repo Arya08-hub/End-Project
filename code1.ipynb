{
 "cells": [
  {
   "cell_type": "code",
   "execution_count": null,
   "id": "6eeb9e2a-231f-4038-b31d-871d1dba5586",
   "metadata": {},
   "outputs": [],
   "source": [
    "import pandas as pd\n",
    "import matplotlib.pyplot as plt\n",
    "import seaborn as sns\n",
    "\n",
    "# Load the dataset\n",
    "df = pd.read_csv('/mnt/data/bank-additional-full.csv', sep=';')\n",
    "\n",
    "# Display basic information\n",
    "print(\"Dataset Info:\")\n",
    "print(df.info())\n",
    "print(\"\\nSummary Statistics:\")\n",
    "print(df.describe())\n",
    "\n",
    "# Check for missing values\n",
    "print(\"\\nMissing Values:\")\n",
    "print(df.isnull().sum())\n",
    "\n",
    "# Check class distribution\n",
    "print(\"\\nTarget Variable Distribution:\")\n",
    "print(df['y'].value_counts())\n",
    "\n",
    "# Plot target variable\n",
    "sns.countplot(x='y', data=df)\n",
    "plt.title('Target Variable Distribution')\n",
    "plt.show()\n",
    "\n",
    "# Plot correlation heatmap for numerical features\n",
    "numeric_features = df.select_dtypes(include=['int64', 'float64'])\n",
    "plt.figure(figsize=(10, 8))\n",
    "sns.heatmap(numeric_features.corr(), annot=True, cmap='coolwarm')\n",
    "plt.title('Correlation Heatmap')\n",
    "plt.show()\n",
    "\n",
    "# Plot categorical features distribution\n",
    "categorical_features = df.select_dtypes(include=['object']).columns[:-1]  # exclude target\n",
    "for col in categorical_features:\n",
    "    plt.figure(figsize=(8, 4))\n",
    "    sns.countplot(y=col, data=df, order=df[col].value_counts().index)\n",
    "    plt.title(f'Distribution of {col}')\n",
    "    plt.tight_layout()\n",
    "    plt.show()\n",
    "\n",
    "# Encode categorical variables using one-hot encoding\n",
    "df_encoded = pd.get_dummies(df, drop_first=True)\n",
    "\n",
    "# Display final preprocessed dataset info\n",
    "print(\"\\nPreprocessed Dataset Info:\")\n",
    "print(df_encoded.info())\n",
    "\n",
    "# Save the preprocessed data (optional)\n",
    "# df_encoded.to_csv('/mnt/data/bank_preprocessed.csv', index=False)\n"
   ]
  }
 ],
 "metadata": {
  "kernelspec": {
   "display_name": "anaconda-panel-2023.05-py310",
   "language": "python",
   "name": "conda-env-anaconda-panel-2023.05-py310-py"
  },
  "language_info": {
   "codemirror_mode": {
    "name": "ipython",
    "version": 3
   },
   "file_extension": ".py",
   "mimetype": "text/x-python",
   "name": "python",
   "nbconvert_exporter": "python",
   "pygments_lexer": "ipython3",
   "version": "3.11.5"
  }
 },
 "nbformat": 4,
 "nbformat_minor": 5
}
